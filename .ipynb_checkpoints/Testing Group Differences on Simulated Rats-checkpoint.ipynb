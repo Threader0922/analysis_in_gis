{
 "cells": [
  {
   "cell_type": "markdown",
   "metadata": {},
   "source": [
    "# Analyzing Group Differences"
   ]
  },
  {
   "cell_type": "markdown",
   "metadata": {},
   "source": [
    "In these exercises, we'll explore testing differences between group means.  This is useful when I'd like to know something about how two quantitative variables differ between Group A and Group B.  In a geographical context, we might want to know, for instance, <a href=\"https://hpi.georgetown.edu/rural/\">whether people living in urban areas tend to be healthier or less healthy than those living in rural areas</a>.  How could we make this comparison?\n",
    "\n",
    "When testing two groups, we generally use a <a href=\"https://en.wikipedia.org/wiki/Student%27s_t-test\">t-test</a>.  When testing more than two groups for differences, we generally use an <a href=\"https://en.wikipedia.org/wiki/Analysis_of_variance\">ANOVA</a>.  If our variables are not normally distributed, we'll often <a href=\"https://en.wikipedia.org/wiki/Data_transformation_(statistics)\">transform our variable</a> (e.g., with something like a log transform), or we can use <a href=\"https://en.wikipedia.org/wiki/Kruskal%E2%80%93Wallis_one-way_analysis_of_variance\">non-parametric versions of our tests</a>."
   ]
  },
  {
   "cell_type": "code",
   "execution_count": null,
   "metadata": {},
   "outputs": [],
   "source": [
    "import numpy as np\n",
    "import pandas as pd\n",
    "from scipy import stats\n",
    "import matplotlib.pyplot as plt"
   ]
  },
  {
   "cell_type": "markdown",
   "metadata": {},
   "source": [
    "# Giving Fake Growth Serum to Fake Rats"
   ]
  },
  {
   "cell_type": "markdown",
   "metadata": {},
   "source": [
    "Suppose I'm a mad scientist testing out a <a href=\"https://princessbride.fandom.com/wiki/R.O.U.S.\">growth serum for rats</a>.\n",
    "\n",
    "Apart from actually making the growth serum, how do I know if it's working?\n",
    "\n",
    "I can use t-tests to help me analyze my data."
   ]
  },
  {
   "cell_type": "markdown",
   "metadata": {},
   "source": [
    "### Simulating Rats"
   ]
  },
  {
   "cell_type": "markdown",
   "metadata": {},
   "source": [
    "We'll suppose our rats have a <a href=\"https://en.wikipedia.org/wiki/Mean\">mean</a> length of 12.1 cm, with a <a href=\"https://en.wikipedia.org/wiki/Standard_deviation\">standard deviation</a> of 1.8 cm."
   ]
  },
  {
   "cell_type": "code",
   "execution_count": null,
   "metadata": {},
   "outputs": [],
   "source": [
    "n = 500\n",
    "length_mean = 12.1\n",
    "length_sd = 1.8\n",
    "\n",
    "some_rats = np.random.normal(loc=length_mean, scale=length_sd, size=n)\n",
    "\n",
    "_ = plt.hist(some_rats,bins=10,edgecolor='k')"
   ]
  },
  {
   "cell_type": "markdown",
   "metadata": {},
   "source": [
    "### Simulating Growth Serum"
   ]
  },
  {
   "cell_type": "markdown",
   "metadata": {},
   "source": [
    "In addition to simulating rats, we'll have to simulate the effect of our growth serum.  You can adjust these values later if you want, but let's start with this:"
   ]
  },
  {
   "cell_type": "code",
   "execution_count": null,
   "metadata": {},
   "outputs": [],
   "source": [
    "# This is our first batch, so the effects are somewhat weak:\n",
    "serum_mean_length_increase = .1  # cm\n",
    "serum_sd_length_increase = .05   # cm\n",
    "\n",
    "# We'll model our growth serum with a normal distribution:\n",
    "growth_serum = np.random.normal(serum_mean_length_increase, serum_sd_length_increase, n)\n",
    "\n",
    "# Let's look at the distribution.  Notice that in rare cases, the serum will cause the rats to slightly shrink!\n",
    "_ = plt.hist(growth_serum,bins=10,edgecolor='k')"
   ]
  },
  {
   "cell_type": "markdown",
   "metadata": {},
   "source": [
    "### T-Tests on Related Samples"
   ]
  },
  {
   "cell_type": "markdown",
   "metadata": {},
   "source": [
    "In my best-case scenario, my experiment looks like this:\n",
    "\n",
    "* I measure the length of the rats.  \n",
    "* I give them the growth serum.\n",
    "* I measure their length a little while later."
   ]
  },
  {
   "cell_type": "code",
   "execution_count": null,
   "metadata": {},
   "outputs": [],
   "source": [
    "n = 50\n",
    "rat_m = 12.1\n",
    "rat_sd = 1.8\n",
    "serum_m = 5.0     # Let's simulate a very \n",
    "serum_sd = 1.0    # strong serum to start with\n",
    "\n",
    "# Run the \"experiment\"\n",
    "before_rats = np.random.normal(rat_m, rat_sd, n)\n",
    "growth_serum = np.random.normal(serum_m, serum_sd, n)\n",
    "after_rats = before_rats + growth_serum\n",
    "\n",
    "# Plot the results\n",
    "plt.figure()\n",
    "ax = plt.subplot(111)\n",
    "_ = plt.violinplot((before_rats,after_rats))\n",
    "_ = ax.set_xticks([1,2])\n",
    "_ = ax.set_xticklabels(['Before','After'])\n",
    "_ = plt.ylabel('length (cm)')"
   ]
  },
  {
   "cell_type": "code",
   "execution_count": null,
   "metadata": {},
   "outputs": [],
   "source": [
    "# This clearly worked!  We can run a t-test to confirm.  \n",
    "# We run a RELATED t-test, since we measured the same rats before and after.\n",
    "\n",
    "t,p = stats.ttest_rel(before_rats,after_rats)\n",
    "print('t =',t,' p =',p)\n",
    "\n",
    "# The p-value is quite low.  Notice this is in scientific notation.  \n",
    "# Values are generated randomly, but on one run, I received a p-value of: \n",
    "# p = 4.5423694976383266e-36\n",
    "#\n",
    "# This means that the number is 4.54 x 10^-36, a very small number!  Far, far less than P = .001.  \n",
    "# We would generally report this value as \"P < 0.001\""
   ]
  },
  {
   "cell_type": "markdown",
   "metadata": {},
   "source": [
    "### Reporting P values"
   ]
  },
  {
   "cell_type": "markdown",
   "metadata": {},
   "source": [
    "We would generally report this value as <u>p < 0.001</u> meaning there is less than 1 chance in a thousand that we would see this much of a difference in mean by random sampling, if indeed our true means were the same. Intepreting p-values can take practice, so <a href=\"https://blog.minitab.com/blog/adventures-in-statistics-2/how-to-correctly-interpret-p-values\">be sure to read more about it</a> if you find this confusing.  \n",
    "    \n",
    "In practice there are few critical thresholds for p-values:\n",
    "* p < .05, indicating a less than 1 in 20 chance.  This is generally the minimum threshold for \"statistical significance\".\n",
    "* p < .01, indicating a less than 1 in 100 chance.\n",
    "* p < .001, indicating a less than 1 in 1000 chance.  This is generally the smallest p-value we report.\n",
    "           \n",
    "Although I use lowercase letters here for convenience, P should be reported as a capital letter.  See these guidelines for <a href=\"https://support.jmir.org/hc/en-us/articles/360000002012-How-should-P-values-be-reported-\">how to report P values</a>.  Remember, p-values are never zero!    "
   ]
  },
  {
   "cell_type": "markdown",
   "metadata": {},
   "source": [
    "### What about a weaker serum?"
   ]
  },
  {
   "cell_type": "code",
   "execution_count": null,
   "metadata": {},
   "outputs": [],
   "source": [
    "n = 50\n",
    "rat_m = 12.1\n",
    "rat_sd = 1.8\n",
    "serum_m = 0.1     # Let's simulate a weaker serum\n",
    "serum_sd = 0.05    \n",
    "\n",
    "# Run the \"experiment\"\n",
    "before_rats = np.random.normal(rat_m, rat_sd, n)\n",
    "growth_serum = np.random.normal(serum_m, serum_sd, n)\n",
    "after_rats = before_rats + growth_serum\n",
    "\n",
    "# Plot the results\n",
    "plt.figure()\n",
    "ax = plt.subplot(111)\n",
    "_ = plt.violinplot((before_rats,after_rats))\n",
    "_ = ax.set_xticks([1,2])\n",
    "_ = ax.set_xticklabels(['Before','After'])\n",
    "_ = plt.ylabel('length (cm)')\n",
    "\n",
    "t,p = stats.ttest_rel(before_rats,after_rats)\n",
    "print('t =',t,' p =',p)\n",
    "\n",
    "# Even though the distributions aren't visually distinct, the statistical test is still able to pick up\n",
    "# differences.  In my run, p was still less than 0.001 (in fact, 8.79 x 10^-19)."
   ]
  },
  {
   "cell_type": "markdown",
   "metadata": {},
   "source": [
    "# T-Tests on Independent Samples"
   ]
  },
  {
   "cell_type": "markdown",
   "metadata": {},
   "source": [
    "In this scenario, my experiment looks like this:\n",
    "\n",
    "* I get 50 rats from my rat dealer, and I divide them into two groups of 25 each\n",
    "* Group A (control_rats) recieve no treatment, I only measure them.\n",
    "* I give my growth serum to Group B (treatment_rats), I wait a while, and then measure them.\n",
    "\n",
    "If this doesn't seem quite as good of a set up, you're right!  It's not.  As a result, <a href=\"https://en.wikipedia.org/wiki/Power_(statistics)\">statistical power will be much lower</a> - it will be harder to tell whether the treatment worked or not.  However, with geographic data, we may not have the luxury of performing true \"experiments\" - we may only be able to analyze collected data."
   ]
  },
  {
   "cell_type": "code",
   "execution_count": null,
   "metadata": {},
   "outputs": [],
   "source": [
    "n = 25\n",
    "rat_m = 12.1\n",
    "rat_sd = 1.8\n",
    "serum_m = 0.1     # Let's simulate a weaker serum\n",
    "serum_sd = 0.05    \n",
    "\n",
    "\n",
    "# Run the \"experiment\"\n",
    "control_rats = np.random.normal(rat_m, rat_sd, n)\n",
    "\n",
    "growth_serum = np.random.normal(serum_m, serum_sd, n)\n",
    "treatment_rats = np.random.normal(rat_m, rat_sd, n) + growth_serum\n",
    "\n",
    "\n",
    "# Plot the results\n",
    "plt.figure()\n",
    "ax = plt.subplot(111)\n",
    "_ = plt.violinplot((control_rats,treatment_rats))\n",
    "_ = ax.set_xticks([1,2])\n",
    "_ = ax.set_xticklabels(['Before','After'])\n",
    "_ = plt.ylabel('length (cm)')\n",
    "\n",
    "t,p = stats.ttest_ind(control_rats,treatment_rats)\n",
    "print('t =',t,' p =',p)"
   ]
  },
  {
   "cell_type": "markdown",
   "metadata": {},
   "source": [
    "# T-Tests against a known mean"
   ]
  },
  {
   "cell_type": "code",
   "execution_count": null,
   "metadata": {},
   "outputs": [],
   "source": [
    "In this case, the idea is to compare a group against a known mean.  This is much like the last example, but without Group A (the control group).  "
   ]
  },
  {
   "cell_type": "code",
   "execution_count": null,
   "metadata": {},
   "outputs": [],
   "source": [
    "n = 50\n",
    "rat_m = 12.1\n",
    "rat_sd = 1.8\n",
    "serum_m = 0.1     # Let's simulate a weaker serum\n",
    "serum_sd = 0.05 \n",
    "\n",
    "growth_serum = np.random.normal(serum_m, serum_sd, n)\n",
    "treatment_rats = np.random.normal(rat_m, rat_sd, n) + growth_serum\n",
    "\n",
    "t,p = stats.ttest_1samp(treatment_rats,popmean=rat_m)\n",
    "print('t =',t,' p =',p)"
   ]
  },
  {
   "cell_type": "markdown",
   "metadata": {},
   "source": [
    "# T-Tests against a known population mean"
   ]
  },
  {
   "cell_type": "code",
   "execution_count": null,
   "metadata": {},
   "outputs": [],
   "source": [
    "# You can also use a t-test to test for difference from a specific mean\n",
    "\n",
    "n = 100\n",
    "\n",
    "rat_length_mean = 12.1\n",
    "rat_length_sd = 1.8\n",
    "\n",
    "serum_increase_mean = .1\n",
    "serum_increase_sd = .05\n",
    "\n",
    "before_rats = np.random.normal(loc=rat_length_mean,scale=rat_length_sd,size=n)\n",
    "after_rats = before_rats + np.random.normal(serum_increase_mean,serum_increase_sd,n)\n",
    "\n",
    "t,p = stats.ttest_1samp(after_rats,popmean=rat_length_mean)\n",
    "print('Testing difference from a given mean')\n",
    "print(t,p)\n",
    "\n",
    "print('\\n')\n",
    "\n",
    "# Compare to a paired t-test\n",
    "t,p = stats.ttest_rel(before_rats,after_rats)\n",
    "print('Testing difference from a paired t-test')\n",
    "print(t,p)\n"
   ]
  }
 ],
 "metadata": {
  "kernelspec": {
   "display_name": "Python 3",
   "language": "python",
   "name": "python3"
  },
  "language_info": {
   "codemirror_mode": {
    "name": "ipython",
    "version": 3
   },
   "file_extension": ".py",
   "mimetype": "text/x-python",
   "name": "python",
   "nbconvert_exporter": "python",
   "pygments_lexer": "ipython3",
   "version": "3.7.0"
  }
 },
 "nbformat": 4,
 "nbformat_minor": 4
}
