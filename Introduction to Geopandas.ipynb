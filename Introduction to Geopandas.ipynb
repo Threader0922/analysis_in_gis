{
 "cells": [
  {
   "cell_type": "code",
   "execution_count": 3,
   "metadata": {},
   "outputs": [],
   "source": [
    "import numpy as np\n",
    "import pandas as pd\n",
    "import matplotlib.pyplot as plt\n",
    "\n",
    "import geopandas as gpd"
   ]
  },
  {
   "cell_type": "markdown",
   "metadata": {},
   "source": [
    "# Loading and Inspecting Data"
   ]
  },
  {
   "cell_type": "code",
   "execution_count": 21,
   "metadata": {},
   "outputs": [
    {
     "data": {
      "text/html": [
       "<div>\n",
       "<style scoped>\n",
       "    .dataframe tbody tr th:only-of-type {\n",
       "        vertical-align: middle;\n",
       "    }\n",
       "\n",
       "    .dataframe tbody tr th {\n",
       "        vertical-align: top;\n",
       "    }\n",
       "\n",
       "    .dataframe thead th {\n",
       "        text-align: right;\n",
       "    }\n",
       "</style>\n",
       "<table border=\"1\" class=\"dataframe\">\n",
       "  <thead>\n",
       "    <tr style=\"text-align: right;\">\n",
       "      <th></th>\n",
       "      <th>fid</th>\n",
       "      <th>STATEFP</th>\n",
       "      <th>COUNTYFP</th>\n",
       "      <th>COUNTYNS</th>\n",
       "      <th>AFFGEOID</th>\n",
       "      <th>GEOID</th>\n",
       "      <th>NAME</th>\n",
       "      <th>LSAD</th>\n",
       "      <th>ALAND</th>\n",
       "      <th>AWATER</th>\n",
       "      <th>geometry</th>\n",
       "    </tr>\n",
       "  </thead>\n",
       "  <tbody>\n",
       "    <tr>\n",
       "      <td>0</td>\n",
       "      <td>1</td>\n",
       "      <td>39</td>\n",
       "      <td>131</td>\n",
       "      <td>01074078</td>\n",
       "      <td>0500000US39131</td>\n",
       "      <td>39131</td>\n",
       "      <td>Pike</td>\n",
       "      <td>06</td>\n",
       "      <td>1140324458</td>\n",
       "      <td>9567612</td>\n",
       "      <td>MULTIPOLYGON (((-83.35353 39.19758, -82.78589 ...</td>\n",
       "    </tr>\n",
       "    <tr>\n",
       "      <td>1</td>\n",
       "      <td>2</td>\n",
       "      <td>46</td>\n",
       "      <td>003</td>\n",
       "      <td>01266983</td>\n",
       "      <td>0500000US46003</td>\n",
       "      <td>46003</td>\n",
       "      <td>Aurora</td>\n",
       "      <td>06</td>\n",
       "      <td>1834813753</td>\n",
       "      <td>11201379</td>\n",
       "      <td>MULTIPOLYGON (((-98.80777 43.93522, -98.33151 ...</td>\n",
       "    </tr>\n",
       "    <tr>\n",
       "      <td>2</td>\n",
       "      <td>3</td>\n",
       "      <td>55</td>\n",
       "      <td>035</td>\n",
       "      <td>01581077</td>\n",
       "      <td>0500000US55035</td>\n",
       "      <td>55035</td>\n",
       "      <td>Eau Claire</td>\n",
       "      <td>06</td>\n",
       "      <td>1652211310</td>\n",
       "      <td>18848512</td>\n",
       "      <td>MULTIPOLYGON (((-91.65045 44.85595, -90.92225 ...</td>\n",
       "    </tr>\n",
       "    <tr>\n",
       "      <td>3</td>\n",
       "      <td>4</td>\n",
       "      <td>72</td>\n",
       "      <td>145</td>\n",
       "      <td>01804553</td>\n",
       "      <td>0500000US72145</td>\n",
       "      <td>72145</td>\n",
       "      <td>Vega Baja</td>\n",
       "      <td>13</td>\n",
       "      <td>118766803</td>\n",
       "      <td>57805868</td>\n",
       "      <td>MULTIPOLYGON (((-66.44899 18.38721, -66.43895 ...</td>\n",
       "    </tr>\n",
       "    <tr>\n",
       "      <td>4</td>\n",
       "      <td>5</td>\n",
       "      <td>48</td>\n",
       "      <td>259</td>\n",
       "      <td>01383915</td>\n",
       "      <td>0500000US48259</td>\n",
       "      <td>48259</td>\n",
       "      <td>Kendall</td>\n",
       "      <td>06</td>\n",
       "      <td>1715747531</td>\n",
       "      <td>1496797</td>\n",
       "      <td>MULTIPOLYGON (((-98.92015 30.13829, -98.58790 ...</td>\n",
       "    </tr>\n",
       "  </tbody>\n",
       "</table>\n",
       "</div>"
      ],
      "text/plain": [
       "   fid STATEFP COUNTYFP  COUNTYNS        AFFGEOID  GEOID        NAME LSAD  \\\n",
       "0    1      39      131  01074078  0500000US39131  39131        Pike   06   \n",
       "1    2      46      003  01266983  0500000US46003  46003      Aurora   06   \n",
       "2    3      55      035  01581077  0500000US55035  55035  Eau Claire   06   \n",
       "3    4      72      145  01804553  0500000US72145  72145   Vega Baja   13   \n",
       "4    5      48      259  01383915  0500000US48259  48259     Kendall   06   \n",
       "\n",
       "        ALAND    AWATER                                           geometry  \n",
       "0  1140324458   9567612  MULTIPOLYGON (((-83.35353 39.19758, -82.78589 ...  \n",
       "1  1834813753  11201379  MULTIPOLYGON (((-98.80777 43.93522, -98.33151 ...  \n",
       "2  1652211310  18848512  MULTIPOLYGON (((-91.65045 44.85595, -90.92225 ...  \n",
       "3   118766803  57805868  MULTIPOLYGON (((-66.44899 18.38721, -66.43895 ...  \n",
       "4  1715747531   1496797  MULTIPOLYGON (((-98.92015 30.13829, -98.58790 ...  "
      ]
     },
     "execution_count": 21,
     "metadata": {},
     "output_type": "execute_result"
    }
   ],
   "source": [
    "# Loading and inspecting data works exactly like Pandas.  Geopandas can load shapefiles, geopackages, geojsons, and \n",
    "# many more.  Here, we'll load some geojson data I've prepared from cartographic boundary files.\n",
    "\n",
    "url = 'https://raw.githubusercontent.com/thomaspingel/geodata/master/cartographic_boundary_files/cb_2016_us_county_20m.geojson'\n",
    "gdf = gpd.read_file(url)\n",
    "gdf.head()"
   ]
  },
  {
   "cell_type": "code",
   "execution_count": 9,
   "metadata": {},
   "outputs": [
    {
     "data": {
      "text/plain": [
       "<matplotlib.axes._subplots.AxesSubplot at 0x22f99ee6f08>"
      ]
     },
     "execution_count": 9,
     "metadata": {},
     "output_type": "execute_result"
    },
    {
     "data": {
      "image/png": "[encoded data removed]",
      "text/plain": [
       "<Figure size 432x288 with 1 Axes>"
      ]
     },
     "metadata": {
      "needs_background": "light"
     },
     "output_type": "display_data"
    }
   ],
   "source": [
    "# Geopandas, like Pandas, includes functions to look at the data:\n",
    "\n",
    "gdf.plot()"
   ]
  },
  {
   "cell_type": "markdown",
   "metadata": {},
   "source": [
    "# Selecting Data"
   ]
  }
 ],
 "metadata": {
  "kernelspec": {
   "display_name": "Python 3",
   "language": "python",
   "name": "python3"
  },
  "language_info": {
   "codemirror_mode": {
    "name": "ipython",
    "version": 3
   },
   "file_extension": ".py",
   "mimetype": "text/x-python",
   "name": "python",
   "nbconvert_exporter": "python",
   "pygments_lexer": "ipython3",
   "version": "3.7.4"
  }
 },
 "nbformat": 4,
 "nbformat_minor": 2
}
